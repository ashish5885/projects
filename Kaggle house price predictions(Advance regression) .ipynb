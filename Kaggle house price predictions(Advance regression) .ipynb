{
 "cells": [
  {
   "cell_type": "code",
   "execution_count": 162,
   "id": "ef109efc",
   "metadata": {},
   "outputs": [],
   "source": [
    "import matplotlib.pyplot as plt\n",
    "import pandas as pd\n",
    "import numpy as np\n",
    "import seaborn as sns\n",
    "\n",
    "from sklearn.preprocessing import LabelEncoder\n",
    "from sklearn.model_selection import train_test_split\n",
    "from sklearn import metrics\n",
    "from sklearn.linear_model import LinearRegression"
   ]
  },
  {
   "cell_type": "code",
   "execution_count": 100,
   "id": "5445c674",
   "metadata": {},
   "outputs": [],
   "source": [
    "train = pd.read_csv('train_house_prediction.csv')\n",
    "test = pd.read_csv('test_house_prediction.csv')"
   ]
  },
  {
   "cell_type": "code",
   "execution_count": 101,
   "id": "3cfd0253",
   "metadata": {},
   "outputs": [
    {
     "data": {
      "text/plain": [
       "((1460, 81), (1459, 80))"
      ]
     },
     "execution_count": 101,
     "metadata": {},
     "output_type": "execute_result"
    }
   ],
   "source": [
    "train.shape, test.shape"
   ]
  },
  {
   "cell_type": "markdown",
   "id": "cdc90057",
   "metadata": {},
   "source": [
    "## Pre Modeling "
   ]
  },
  {
   "cell_type": "code",
   "execution_count": 102,
   "id": "a2192dcb",
   "metadata": {
    "scrolled": true
   },
   "outputs": [
    {
     "data": {
      "text/plain": [
       "0"
      ]
     },
     "execution_count": 102,
     "metadata": {},
     "output_type": "execute_result"
    }
   ],
   "source": [
    "train.duplicated().sum()"
   ]
  },
  {
   "cell_type": "code",
   "execution_count": 103,
   "id": "ab51511a",
   "metadata": {},
   "outputs": [
    {
     "data": {
      "text/plain": [
       "0"
      ]
     },
     "execution_count": 103,
     "metadata": {},
     "output_type": "execute_result"
    }
   ],
   "source": [
    "test.duplicated().sum()"
   ]
  },
  {
   "cell_type": "code",
   "execution_count": 104,
   "id": "52f8cd13",
   "metadata": {},
   "outputs": [
    {
     "data": {
      "text/plain": [
       "[dtype('int64'),\n",
       " dtype('int64'),\n",
       " dtype('O'),\n",
       " dtype('float64'),\n",
       " dtype('int64'),\n",
       " dtype('O'),\n",
       " dtype('O'),\n",
       " dtype('O'),\n",
       " dtype('O'),\n",
       " dtype('O'),\n",
       " dtype('O'),\n",
       " dtype('O'),\n",
       " dtype('O'),\n",
       " dtype('O'),\n",
       " dtype('O'),\n",
       " dtype('O'),\n",
       " dtype('O'),\n",
       " dtype('int64'),\n",
       " dtype('int64'),\n",
       " dtype('int64'),\n",
       " dtype('int64'),\n",
       " dtype('O'),\n",
       " dtype('O'),\n",
       " dtype('O'),\n",
       " dtype('O'),\n",
       " dtype('O'),\n",
       " dtype('float64'),\n",
       " dtype('O'),\n",
       " dtype('O'),\n",
       " dtype('O'),\n",
       " dtype('O'),\n",
       " dtype('O'),\n",
       " dtype('O'),\n",
       " dtype('O'),\n",
       " dtype('int64'),\n",
       " dtype('O'),\n",
       " dtype('int64'),\n",
       " dtype('int64'),\n",
       " dtype('int64'),\n",
       " dtype('O'),\n",
       " dtype('O'),\n",
       " dtype('O'),\n",
       " dtype('O'),\n",
       " dtype('int64'),\n",
       " dtype('int64'),\n",
       " dtype('int64'),\n",
       " dtype('int64'),\n",
       " dtype('int64'),\n",
       " dtype('int64'),\n",
       " dtype('int64'),\n",
       " dtype('int64'),\n",
       " dtype('int64'),\n",
       " dtype('int64'),\n",
       " dtype('O'),\n",
       " dtype('int64'),\n",
       " dtype('O'),\n",
       " dtype('int64'),\n",
       " dtype('O'),\n",
       " dtype('O'),\n",
       " dtype('float64'),\n",
       " dtype('O'),\n",
       " dtype('int64'),\n",
       " dtype('int64'),\n",
       " dtype('O'),\n",
       " dtype('O'),\n",
       " dtype('O'),\n",
       " dtype('int64'),\n",
       " dtype('int64'),\n",
       " dtype('int64'),\n",
       " dtype('int64'),\n",
       " dtype('int64'),\n",
       " dtype('int64'),\n",
       " dtype('O'),\n",
       " dtype('O'),\n",
       " dtype('O'),\n",
       " dtype('int64'),\n",
       " dtype('int64'),\n",
       " dtype('int64'),\n",
       " dtype('O'),\n",
       " dtype('O'),\n",
       " dtype('int64')]"
      ]
     },
     "execution_count": 104,
     "metadata": {},
     "output_type": "execute_result"
    }
   ],
   "source": [
    "list(train.dtypes)"
   ]
  },
  {
   "cell_type": "code",
   "execution_count": 105,
   "id": "a4206bc2",
   "metadata": {},
   "outputs": [
    {
     "data": {
      "text/plain": [
       "[dtype('int64'),\n",
       " dtype('int64'),\n",
       " dtype('O'),\n",
       " dtype('float64'),\n",
       " dtype('int64'),\n",
       " dtype('O'),\n",
       " dtype('O'),\n",
       " dtype('O'),\n",
       " dtype('O'),\n",
       " dtype('O'),\n",
       " dtype('O'),\n",
       " dtype('O'),\n",
       " dtype('O'),\n",
       " dtype('O'),\n",
       " dtype('O'),\n",
       " dtype('O'),\n",
       " dtype('O'),\n",
       " dtype('int64'),\n",
       " dtype('int64'),\n",
       " dtype('int64'),\n",
       " dtype('int64'),\n",
       " dtype('O'),\n",
       " dtype('O'),\n",
       " dtype('O'),\n",
       " dtype('O'),\n",
       " dtype('O'),\n",
       " dtype('float64'),\n",
       " dtype('O'),\n",
       " dtype('O'),\n",
       " dtype('O'),\n",
       " dtype('O'),\n",
       " dtype('O'),\n",
       " dtype('O'),\n",
       " dtype('O'),\n",
       " dtype('float64'),\n",
       " dtype('O'),\n",
       " dtype('float64'),\n",
       " dtype('float64'),\n",
       " dtype('float64'),\n",
       " dtype('O'),\n",
       " dtype('O'),\n",
       " dtype('O'),\n",
       " dtype('O'),\n",
       " dtype('int64'),\n",
       " dtype('int64'),\n",
       " dtype('int64'),\n",
       " dtype('int64'),\n",
       " dtype('float64'),\n",
       " dtype('float64'),\n",
       " dtype('int64'),\n",
       " dtype('int64'),\n",
       " dtype('int64'),\n",
       " dtype('int64'),\n",
       " dtype('O'),\n",
       " dtype('int64'),\n",
       " dtype('O'),\n",
       " dtype('int64'),\n",
       " dtype('O'),\n",
       " dtype('O'),\n",
       " dtype('float64'),\n",
       " dtype('O'),\n",
       " dtype('float64'),\n",
       " dtype('float64'),\n",
       " dtype('O'),\n",
       " dtype('O'),\n",
       " dtype('O'),\n",
       " dtype('int64'),\n",
       " dtype('int64'),\n",
       " dtype('int64'),\n",
       " dtype('int64'),\n",
       " dtype('int64'),\n",
       " dtype('int64'),\n",
       " dtype('O'),\n",
       " dtype('O'),\n",
       " dtype('O'),\n",
       " dtype('int64'),\n",
       " dtype('int64'),\n",
       " dtype('int64'),\n",
       " dtype('O'),\n",
       " dtype('O')]"
      ]
     },
     "execution_count": 105,
     "metadata": {},
     "output_type": "execute_result"
    }
   ],
   "source": [
    "list(test.dtypes)"
   ]
  },
  {
   "cell_type": "code",
   "execution_count": 106,
   "id": "a4358744",
   "metadata": {},
   "outputs": [],
   "source": [
    "## Changing numerical column to object type.\n",
    "train['MSSubClass'] = train['MSSubClass'].astype(str)\n",
    "test['MSSubClass'] = test['MSSubClass'].astype(str)"
   ]
  },
  {
   "cell_type": "code",
   "execution_count": 107,
   "id": "399a1c1a",
   "metadata": {},
   "outputs": [
    {
     "data": {
      "text/plain": [
       "Id                 0\n",
       "MSSubClass         0\n",
       "MSZoning           0\n",
       "LotFrontage      259\n",
       "LotArea            0\n",
       "                ... \n",
       "MoSold             0\n",
       "YrSold             0\n",
       "SaleType           0\n",
       "SaleCondition      0\n",
       "SalePrice          0\n",
       "Length: 81, dtype: int64"
      ]
     },
     "execution_count": 107,
     "metadata": {},
     "output_type": "execute_result"
    }
   ],
   "source": [
    "train.isnull().sum()"
   ]
  },
  {
   "cell_type": "markdown",
   "id": "a120d050",
   "metadata": {},
   "source": [
    "### Splitting categorical and numerical columns."
   ]
  },
  {
   "cell_type": "code",
   "execution_count": 108,
   "id": "7c6b6881",
   "metadata": {},
   "outputs": [],
   "source": [
    "## For train data\n",
    "numerical_train_var=[key for key in dict(train.dtypes) if dict(train.dtypes)[key] in ['float64', 'int64', 'float32', 'int32']]\n",
    "cat_train_var=[key for key in dict(train.dtypes) if dict(train.dtypes)[key] in ['object']]\n",
    "\n",
    "train_cat = train[cat_train_var]\n",
    "\n",
    "train_num = train[numerical_train_var]"
   ]
  },
  {
   "cell_type": "code",
   "execution_count": 109,
   "id": "0712103f",
   "metadata": {},
   "outputs": [],
   "source": [
    "del train_num['Id']"
   ]
  },
  {
   "cell_type": "code",
   "execution_count": 110,
   "id": "33b77e9d",
   "metadata": {},
   "outputs": [],
   "source": [
    "train_y = train_num['SalePrice']\n",
    "del train_num['SalePrice']"
   ]
  },
  {
   "cell_type": "code",
   "execution_count": 111,
   "id": "5d20bc5e",
   "metadata": {},
   "outputs": [
    {
     "data": {
      "text/plain": [
       "0    208500\n",
       "1    181500\n",
       "2    223500\n",
       "3    140000\n",
       "4    250000\n",
       "Name: SalePrice, dtype: int64"
      ]
     },
     "execution_count": 111,
     "metadata": {},
     "output_type": "execute_result"
    }
   ],
   "source": [
    "train_y.head()"
   ]
  },
  {
   "cell_type": "code",
   "execution_count": 112,
   "id": "6fe2a4ad",
   "metadata": {},
   "outputs": [],
   "source": [
    "## For test data\n",
    "numerical_test_var=[key for key in dict(test.dtypes) if dict(test.dtypes)[key] in ['float64', 'int64', 'float32', 'int32']]\n",
    "cat_test_var=[key for key in dict(test.dtypes) if dict(test.dtypes)[key] in ['object']]\n",
    "\n",
    "test_cat = test[cat_test_var]\n",
    "\n",
    "test_num = test[numerical_test_var]"
   ]
  },
  {
   "cell_type": "code",
   "execution_count": 113,
   "id": "ef81d3c6",
   "metadata": {},
   "outputs": [],
   "source": [
    "id = test['Id']\n",
    "del test_num['Id']"
   ]
  },
  {
   "cell_type": "markdown",
   "id": "56b5b912",
   "metadata": {},
   "source": [
    "### Missing value imputation for numerical column."
   ]
  },
  {
   "cell_type": "code",
   "execution_count": 114,
   "id": "15544e4b",
   "metadata": {},
   "outputs": [],
   "source": [
    "def missings_treat_num(x):\n",
    "    x = x.fillna(x.mean())\n",
    "    return x\n"
   ]
  },
  {
   "cell_type": "code",
   "execution_count": 115,
   "id": "3c55bf05",
   "metadata": {},
   "outputs": [],
   "source": [
    "train_num = train_num.apply(lambda x: missings_treat_num(x))"
   ]
  },
  {
   "cell_type": "code",
   "execution_count": 116,
   "id": "b4a17096",
   "metadata": {},
   "outputs": [],
   "source": [
    "train_num['GarageYrBlt'] = train_num['GarageYrBlt'].astype(int)"
   ]
  },
  {
   "cell_type": "code",
   "execution_count": 117,
   "id": "062f1bca",
   "metadata": {},
   "outputs": [],
   "source": [
    "test_num = test_num.apply(lambda x: missings_treat_num(x))"
   ]
  },
  {
   "cell_type": "code",
   "execution_count": 118,
   "id": "a2cfc91e",
   "metadata": {},
   "outputs": [],
   "source": [
    "test_num['GarageYrBlt'] = test_num['GarageYrBlt'].astype(int)"
   ]
  },
  {
   "cell_type": "markdown",
   "id": "05518b4c",
   "metadata": {},
   "source": [
    "### Outlier capping "
   ]
  },
  {
   "cell_type": "code",
   "execution_count": 119,
   "id": "cd0017a9",
   "metadata": {},
   "outputs": [
    {
     "data": {
      "text/plain": [
       "<AxesSubplot:>"
      ]
     },
     "execution_count": 119,
     "metadata": {},
     "output_type": "execute_result"
    },
    {
     "data": {
      "image/png": "[encoded data removed]",
      "text/plain": [
       "<Figure size 432x288 with 1 Axes>"
      ]
     },
     "metadata": {
      "needs_background": "light"
     },
     "output_type": "display_data"
    }
   ],
   "source": [
    "train_num.plot(kind='box')"
   ]
  },
  {
   "cell_type": "code",
   "execution_count": 120,
   "id": "cfdad7a3",
   "metadata": {},
   "outputs": [],
   "source": [
    "def outlier_cap(x):\n",
    "    x = x.clip(upper = x.quantile(0.95))\n",
    "    x = x.clip(lower = x.quantile(0.05))\n",
    "    return x"
   ]
  },
  {
   "cell_type": "code",
   "execution_count": 121,
   "id": "4e7db0d4",
   "metadata": {},
   "outputs": [],
   "source": [
    "train_num = train_num.apply(lambda x:outlier_cap(x))"
   ]
  },
  {
   "cell_type": "code",
   "execution_count": 122,
   "id": "884c8352",
   "metadata": {},
   "outputs": [
    {
     "data": {
      "text/plain": [
       "<AxesSubplot:>"
      ]
     },
     "execution_count": 122,
     "metadata": {},
     "output_type": "execute_result"
    },
    {
     "data": {
      "image/png": "[encoded data removed]",
      "text/plain": [
       "<Figure size 432x288 with 1 Axes>"
      ]
     },
     "metadata": {
      "needs_background": "light"
     },
     "output_type": "display_data"
    }
   ],
   "source": [
    "## For test data\n",
    "test_num.plot(kind='box')"
   ]
  },
  {
   "cell_type": "code",
   "execution_count": 123,
   "id": "2b7d1d0a",
   "metadata": {},
   "outputs": [],
   "source": [
    "test_num = test_num.apply(lambda x:outlier_cap(x))"
   ]
  },
  {
   "cell_type": "markdown",
   "id": "cd3de2e5",
   "metadata": {},
   "source": [
    "### Missing value treatment for categorical column "
   ]
  },
  {
   "cell_type": "code",
   "execution_count": 124,
   "id": "c0e8f586",
   "metadata": {},
   "outputs": [
    {
     "data": {
      "text/plain": [
       "MSSubClass          0\n",
       "MSZoning            0\n",
       "Street              0\n",
       "Alley            1369\n",
       "LotShape            0\n",
       "LandContour         0\n",
       "Utilities           0\n",
       "LotConfig           0\n",
       "LandSlope           0\n",
       "Neighborhood        0\n",
       "Condition1          0\n",
       "Condition2          0\n",
       "BldgType            0\n",
       "HouseStyle          0\n",
       "RoofStyle           0\n",
       "RoofMatl            0\n",
       "Exterior1st         0\n",
       "Exterior2nd         0\n",
       "MasVnrType          8\n",
       "ExterQual           0\n",
       "ExterCond           0\n",
       "Foundation          0\n",
       "BsmtQual           37\n",
       "BsmtCond           37\n",
       "BsmtExposure       38\n",
       "BsmtFinType1       37\n",
       "BsmtFinType2       38\n",
       "Heating             0\n",
       "HeatingQC           0\n",
       "CentralAir          0\n",
       "Electrical          1\n",
       "KitchenQual         0\n",
       "Functional          0\n",
       "FireplaceQu       690\n",
       "GarageType         81\n",
       "GarageFinish       81\n",
       "GarageQual         81\n",
       "GarageCond         81\n",
       "PavedDrive          0\n",
       "PoolQC           1453\n",
       "Fence            1179\n",
       "MiscFeature      1406\n",
       "SaleType            0\n",
       "SaleCondition       0\n",
       "dtype: int64"
      ]
     },
     "execution_count": 124,
     "metadata": {},
     "output_type": "execute_result"
    }
   ],
   "source": [
    "train_cat.isnull().sum()"
   ]
  },
  {
   "cell_type": "code",
   "execution_count": 125,
   "id": "23a7b7e9",
   "metadata": {},
   "outputs": [],
   "source": [
    "def missings_treat_cat(x):\n",
    "    x = x.fillna(x.mode()[0])\n",
    "    return x\n"
   ]
  },
  {
   "cell_type": "code",
   "execution_count": 126,
   "id": "75a98e8e",
   "metadata": {},
   "outputs": [],
   "source": [
    "train_cat = train_cat.apply(lambda x: missings_treat_cat(x))"
   ]
  },
  {
   "cell_type": "code",
   "execution_count": 127,
   "id": "800da557",
   "metadata": {},
   "outputs": [],
   "source": [
    "test_cat = test_cat.apply(lambda x: missings_treat_cat(x))"
   ]
  },
  {
   "cell_type": "markdown",
   "id": "673c9a82",
   "metadata": {},
   "source": [
    "### Dummy Variable creation"
   ]
  },
  {
   "cell_type": "code",
   "execution_count": 128,
   "id": "182233e6",
   "metadata": {},
   "outputs": [],
   "source": [
    "## For train\n",
    "train_cat_Dummies = pd.get_dummies(train_cat, drop_first=True)"
   ]
  },
  {
   "cell_type": "code",
   "execution_count": 129,
   "id": "cd679996",
   "metadata": {},
   "outputs": [
    {
     "data": {
      "text/plain": [
       "(1460, 223)"
      ]
     },
     "execution_count": 129,
     "metadata": {},
     "output_type": "execute_result"
    }
   ],
   "source": [
    "train_cat_Dummies.shape"
   ]
  },
  {
   "cell_type": "code",
   "execution_count": 130,
   "id": "ad8e5ad0",
   "metadata": {},
   "outputs": [
    {
     "data": {
      "text/plain": [
       "(1460,)"
      ]
     },
     "execution_count": 130,
     "metadata": {},
     "output_type": "execute_result"
    }
   ],
   "source": [
    "train_y.shape"
   ]
  },
  {
   "cell_type": "code",
   "execution_count": 131,
   "id": "bc5d3c16",
   "metadata": {},
   "outputs": [],
   "source": [
    "train_cleaned = pd.concat([train_num,train_cat_Dummies,train_y], axis = 1)"
   ]
  },
  {
   "cell_type": "code",
   "execution_count": 145,
   "id": "79964388",
   "metadata": {},
   "outputs": [
    {
     "data": {
      "text/html": [
       "<div>\n",
       "<style scoped>\n",
       "    .dataframe tbody tr th:only-of-type {\n",
       "        vertical-align: middle;\n",
       "    }\n",
       "\n",
       "    .dataframe tbody tr th {\n",
       "        vertical-align: top;\n",
       "    }\n",
       "\n",
       "    .dataframe thead th {\n",
       "        text-align: right;\n",
       "    }\n",
       "</style>\n",
       "<table border=\"1\" class=\"dataframe\">\n",
       "  <thead>\n",
       "    <tr style=\"text-align: right;\">\n",
       "      <th></th>\n",
       "      <th>LotFrontage</th>\n",
       "      <th>LotArea</th>\n",
       "      <th>OverallQual</th>\n",
       "      <th>OverallCond</th>\n",
       "      <th>YearBuilt</th>\n",
       "      <th>YearRemodAdd</th>\n",
       "      <th>MasVnrArea</th>\n",
       "      <th>BsmtFinSF1</th>\n",
       "      <th>BsmtFinSF2</th>\n",
       "      <th>BsmtUnfSF</th>\n",
       "      <th>...</th>\n",
       "      <th>SaleType_ConLw</th>\n",
       "      <th>SaleType_New</th>\n",
       "      <th>SaleType_Oth</th>\n",
       "      <th>SaleType_WD</th>\n",
       "      <th>SaleCondition_AdjLand</th>\n",
       "      <th>SaleCondition_Alloca</th>\n",
       "      <th>SaleCondition_Family</th>\n",
       "      <th>SaleCondition_Normal</th>\n",
       "      <th>SaleCondition_Partial</th>\n",
       "      <th>SalePrice</th>\n",
       "    </tr>\n",
       "  </thead>\n",
       "  <tbody>\n",
       "    <tr>\n",
       "      <th>0</th>\n",
       "      <td>65.0</td>\n",
       "      <td>8450.0</td>\n",
       "      <td>7</td>\n",
       "      <td>5</td>\n",
       "      <td>2003</td>\n",
       "      <td>2003</td>\n",
       "      <td>196.0</td>\n",
       "      <td>706</td>\n",
       "      <td>0.0</td>\n",
       "      <td>150</td>\n",
       "      <td>...</td>\n",
       "      <td>0</td>\n",
       "      <td>0</td>\n",
       "      <td>0</td>\n",
       "      <td>1</td>\n",
       "      <td>0</td>\n",
       "      <td>0</td>\n",
       "      <td>0</td>\n",
       "      <td>1</td>\n",
       "      <td>0</td>\n",
       "      <td>208500</td>\n",
       "    </tr>\n",
       "    <tr>\n",
       "      <th>1</th>\n",
       "      <td>80.0</td>\n",
       "      <td>9600.0</td>\n",
       "      <td>6</td>\n",
       "      <td>8</td>\n",
       "      <td>1976</td>\n",
       "      <td>1976</td>\n",
       "      <td>0.0</td>\n",
       "      <td>978</td>\n",
       "      <td>0.0</td>\n",
       "      <td>284</td>\n",
       "      <td>...</td>\n",
       "      <td>0</td>\n",
       "      <td>0</td>\n",
       "      <td>0</td>\n",
       "      <td>1</td>\n",
       "      <td>0</td>\n",
       "      <td>0</td>\n",
       "      <td>0</td>\n",
       "      <td>1</td>\n",
       "      <td>0</td>\n",
       "      <td>181500</td>\n",
       "    </tr>\n",
       "    <tr>\n",
       "      <th>2</th>\n",
       "      <td>68.0</td>\n",
       "      <td>11250.0</td>\n",
       "      <td>7</td>\n",
       "      <td>5</td>\n",
       "      <td>2001</td>\n",
       "      <td>2002</td>\n",
       "      <td>162.0</td>\n",
       "      <td>486</td>\n",
       "      <td>0.0</td>\n",
       "      <td>434</td>\n",
       "      <td>...</td>\n",
       "      <td>0</td>\n",
       "      <td>0</td>\n",
       "      <td>0</td>\n",
       "      <td>1</td>\n",
       "      <td>0</td>\n",
       "      <td>0</td>\n",
       "      <td>0</td>\n",
       "      <td>1</td>\n",
       "      <td>0</td>\n",
       "      <td>223500</td>\n",
       "    </tr>\n",
       "    <tr>\n",
       "      <th>3</th>\n",
       "      <td>60.0</td>\n",
       "      <td>9550.0</td>\n",
       "      <td>7</td>\n",
       "      <td>5</td>\n",
       "      <td>1916</td>\n",
       "      <td>1970</td>\n",
       "      <td>0.0</td>\n",
       "      <td>216</td>\n",
       "      <td>0.0</td>\n",
       "      <td>540</td>\n",
       "      <td>...</td>\n",
       "      <td>0</td>\n",
       "      <td>0</td>\n",
       "      <td>0</td>\n",
       "      <td>1</td>\n",
       "      <td>0</td>\n",
       "      <td>0</td>\n",
       "      <td>0</td>\n",
       "      <td>0</td>\n",
       "      <td>0</td>\n",
       "      <td>140000</td>\n",
       "    </tr>\n",
       "    <tr>\n",
       "      <th>4</th>\n",
       "      <td>84.0</td>\n",
       "      <td>14260.0</td>\n",
       "      <td>8</td>\n",
       "      <td>5</td>\n",
       "      <td>2000</td>\n",
       "      <td>2000</td>\n",
       "      <td>350.0</td>\n",
       "      <td>655</td>\n",
       "      <td>0.0</td>\n",
       "      <td>490</td>\n",
       "      <td>...</td>\n",
       "      <td>0</td>\n",
       "      <td>0</td>\n",
       "      <td>0</td>\n",
       "      <td>1</td>\n",
       "      <td>0</td>\n",
       "      <td>0</td>\n",
       "      <td>0</td>\n",
       "      <td>1</td>\n",
       "      <td>0</td>\n",
       "      <td>250000</td>\n",
       "    </tr>\n",
       "  </tbody>\n",
       "</table>\n",
       "<p>5 rows × 259 columns</p>\n",
       "</div>"
      ],
      "text/plain": [
       "   LotFrontage  LotArea  OverallQual  OverallCond  YearBuilt  YearRemodAdd  \\\n",
       "0         65.0   8450.0            7            5       2003          2003   \n",
       "1         80.0   9600.0            6            8       1976          1976   \n",
       "2         68.0  11250.0            7            5       2001          2002   \n",
       "3         60.0   9550.0            7            5       1916          1970   \n",
       "4         84.0  14260.0            8            5       2000          2000   \n",
       "\n",
       "   MasVnrArea  BsmtFinSF1  BsmtFinSF2  BsmtUnfSF  ...  SaleType_ConLw  \\\n",
       "0       196.0         706         0.0        150  ...               0   \n",
       "1         0.0         978         0.0        284  ...               0   \n",
       "2       162.0         486         0.0        434  ...               0   \n",
       "3         0.0         216         0.0        540  ...               0   \n",
       "4       350.0         655         0.0        490  ...               0   \n",
       "\n",
       "   SaleType_New  SaleType_Oth  SaleType_WD  SaleCondition_AdjLand  \\\n",
       "0             0             0            1                      0   \n",
       "1             0             0            1                      0   \n",
       "2             0             0            1                      0   \n",
       "3             0             0            1                      0   \n",
       "4             0             0            1                      0   \n",
       "\n",
       "   SaleCondition_Alloca  SaleCondition_Family  SaleCondition_Normal  \\\n",
       "0                     0                     0                     1   \n",
       "1                     0                     0                     1   \n",
       "2                     0                     0                     1   \n",
       "3                     0                     0                     0   \n",
       "4                     0                     0                     1   \n",
       "\n",
       "   SaleCondition_Partial  SalePrice  \n",
       "0                      0     208500  \n",
       "1                      0     181500  \n",
       "2                      0     223500  \n",
       "3                      0     140000  \n",
       "4                      0     250000  \n",
       "\n",
       "[5 rows x 259 columns]"
      ]
     },
     "execution_count": 145,
     "metadata": {},
     "output_type": "execute_result"
    }
   ],
   "source": [
    "train_cleaned.head()"
   ]
  },
  {
   "cell_type": "code",
   "execution_count": 134,
   "id": "188e77bc",
   "metadata": {},
   "outputs": [],
   "source": [
    "## For test\n",
    "test_cat_Dummies = pd.get_dummies(test_cat, drop_first=True)"
   ]
  },
  {
   "cell_type": "code",
   "execution_count": 135,
   "id": "94108e59",
   "metadata": {},
   "outputs": [
    {
     "data": {
      "text/plain": [
       "(1459, 206)"
      ]
     },
     "execution_count": 135,
     "metadata": {},
     "output_type": "execute_result"
    }
   ],
   "source": [
    "test_cat_Dummies.shape"
   ]
  },
  {
   "cell_type": "code",
   "execution_count": 136,
   "id": "8ecce560",
   "metadata": {},
   "outputs": [
    {
     "data": {
      "text/plain": [
       "(1459, 35)"
      ]
     },
     "execution_count": 136,
     "metadata": {},
     "output_type": "execute_result"
    }
   ],
   "source": [
    "test_num.shape"
   ]
  },
  {
   "cell_type": "code",
   "execution_count": 143,
   "id": "26088c10",
   "metadata": {},
   "outputs": [],
   "source": [
    "test_cleaned = pd.concat([test_num,test_cat_Dummies], axis = 1)"
   ]
  },
  {
   "cell_type": "code",
   "execution_count": 144,
   "id": "29da1218",
   "metadata": {},
   "outputs": [
    {
     "data": {
      "text/html": [
       "<div>\n",
       "<style scoped>\n",
       "    .dataframe tbody tr th:only-of-type {\n",
       "        vertical-align: middle;\n",
       "    }\n",
       "\n",
       "    .dataframe tbody tr th {\n",
       "        vertical-align: top;\n",
       "    }\n",
       "\n",
       "    .dataframe thead th {\n",
       "        text-align: right;\n",
       "    }\n",
       "</style>\n",
       "<table border=\"1\" class=\"dataframe\">\n",
       "  <thead>\n",
       "    <tr style=\"text-align: right;\">\n",
       "      <th></th>\n",
       "      <th>LotFrontage</th>\n",
       "      <th>LotArea</th>\n",
       "      <th>OverallQual</th>\n",
       "      <th>OverallCond</th>\n",
       "      <th>YearBuilt</th>\n",
       "      <th>YearRemodAdd</th>\n",
       "      <th>MasVnrArea</th>\n",
       "      <th>BsmtFinSF1</th>\n",
       "      <th>BsmtFinSF2</th>\n",
       "      <th>BsmtUnfSF</th>\n",
       "      <th>...</th>\n",
       "      <th>SaleType_ConLI</th>\n",
       "      <th>SaleType_ConLw</th>\n",
       "      <th>SaleType_New</th>\n",
       "      <th>SaleType_Oth</th>\n",
       "      <th>SaleType_WD</th>\n",
       "      <th>SaleCondition_AdjLand</th>\n",
       "      <th>SaleCondition_Alloca</th>\n",
       "      <th>SaleCondition_Family</th>\n",
       "      <th>SaleCondition_Normal</th>\n",
       "      <th>SaleCondition_Partial</th>\n",
       "    </tr>\n",
       "  </thead>\n",
       "  <tbody>\n",
       "    <tr>\n",
       "      <th>0</th>\n",
       "      <td>80.0</td>\n",
       "      <td>11622.0</td>\n",
       "      <td>5</td>\n",
       "      <td>6</td>\n",
       "      <td>1961</td>\n",
       "      <td>1961</td>\n",
       "      <td>0.0</td>\n",
       "      <td>468.0</td>\n",
       "      <td>144.0</td>\n",
       "      <td>270.0</td>\n",
       "      <td>...</td>\n",
       "      <td>0</td>\n",
       "      <td>0</td>\n",
       "      <td>0</td>\n",
       "      <td>0</td>\n",
       "      <td>1</td>\n",
       "      <td>0</td>\n",
       "      <td>0</td>\n",
       "      <td>0</td>\n",
       "      <td>1</td>\n",
       "      <td>0</td>\n",
       "    </tr>\n",
       "    <tr>\n",
       "      <th>1</th>\n",
       "      <td>81.0</td>\n",
       "      <td>14267.0</td>\n",
       "      <td>6</td>\n",
       "      <td>6</td>\n",
       "      <td>1958</td>\n",
       "      <td>1958</td>\n",
       "      <td>108.0</td>\n",
       "      <td>923.0</td>\n",
       "      <td>0.0</td>\n",
       "      <td>406.0</td>\n",
       "      <td>...</td>\n",
       "      <td>0</td>\n",
       "      <td>0</td>\n",
       "      <td>0</td>\n",
       "      <td>0</td>\n",
       "      <td>1</td>\n",
       "      <td>0</td>\n",
       "      <td>0</td>\n",
       "      <td>0</td>\n",
       "      <td>1</td>\n",
       "      <td>0</td>\n",
       "    </tr>\n",
       "    <tr>\n",
       "      <th>2</th>\n",
       "      <td>74.0</td>\n",
       "      <td>13830.0</td>\n",
       "      <td>5</td>\n",
       "      <td>5</td>\n",
       "      <td>1997</td>\n",
       "      <td>1998</td>\n",
       "      <td>0.0</td>\n",
       "      <td>791.0</td>\n",
       "      <td>0.0</td>\n",
       "      <td>137.0</td>\n",
       "      <td>...</td>\n",
       "      <td>0</td>\n",
       "      <td>0</td>\n",
       "      <td>0</td>\n",
       "      <td>0</td>\n",
       "      <td>1</td>\n",
       "      <td>0</td>\n",
       "      <td>0</td>\n",
       "      <td>0</td>\n",
       "      <td>1</td>\n",
       "      <td>0</td>\n",
       "    </tr>\n",
       "    <tr>\n",
       "      <th>3</th>\n",
       "      <td>78.0</td>\n",
       "      <td>9978.0</td>\n",
       "      <td>6</td>\n",
       "      <td>6</td>\n",
       "      <td>1998</td>\n",
       "      <td>1998</td>\n",
       "      <td>20.0</td>\n",
       "      <td>602.0</td>\n",
       "      <td>0.0</td>\n",
       "      <td>324.0</td>\n",
       "      <td>...</td>\n",
       "      <td>0</td>\n",
       "      <td>0</td>\n",
       "      <td>0</td>\n",
       "      <td>0</td>\n",
       "      <td>1</td>\n",
       "      <td>0</td>\n",
       "      <td>0</td>\n",
       "      <td>0</td>\n",
       "      <td>1</td>\n",
       "      <td>0</td>\n",
       "    </tr>\n",
       "    <tr>\n",
       "      <th>4</th>\n",
       "      <td>43.0</td>\n",
       "      <td>5005.0</td>\n",
       "      <td>8</td>\n",
       "      <td>5</td>\n",
       "      <td>1992</td>\n",
       "      <td>1992</td>\n",
       "      <td>0.0</td>\n",
       "      <td>263.0</td>\n",
       "      <td>0.0</td>\n",
       "      <td>1017.0</td>\n",
       "      <td>...</td>\n",
       "      <td>0</td>\n",
       "      <td>0</td>\n",
       "      <td>0</td>\n",
       "      <td>0</td>\n",
       "      <td>1</td>\n",
       "      <td>0</td>\n",
       "      <td>0</td>\n",
       "      <td>0</td>\n",
       "      <td>1</td>\n",
       "      <td>0</td>\n",
       "    </tr>\n",
       "  </tbody>\n",
       "</table>\n",
       "<p>5 rows × 241 columns</p>\n",
       "</div>"
      ],
      "text/plain": [
       "   LotFrontage  LotArea  OverallQual  OverallCond  YearBuilt  YearRemodAdd  \\\n",
       "0         80.0  11622.0            5            6       1961          1961   \n",
       "1         81.0  14267.0            6            6       1958          1958   \n",
       "2         74.0  13830.0            5            5       1997          1998   \n",
       "3         78.0   9978.0            6            6       1998          1998   \n",
       "4         43.0   5005.0            8            5       1992          1992   \n",
       "\n",
       "   MasVnrArea  BsmtFinSF1  BsmtFinSF2  BsmtUnfSF  ...  SaleType_ConLI  \\\n",
       "0         0.0       468.0       144.0      270.0  ...               0   \n",
       "1       108.0       923.0         0.0      406.0  ...               0   \n",
       "2         0.0       791.0         0.0      137.0  ...               0   \n",
       "3        20.0       602.0         0.0      324.0  ...               0   \n",
       "4         0.0       263.0         0.0     1017.0  ...               0   \n",
       "\n",
       "   SaleType_ConLw  SaleType_New  SaleType_Oth  SaleType_WD  \\\n",
       "0               0             0             0            1   \n",
       "1               0             0             0            1   \n",
       "2               0             0             0            1   \n",
       "3               0             0             0            1   \n",
       "4               0             0             0            1   \n",
       "\n",
       "   SaleCondition_AdjLand  SaleCondition_Alloca  SaleCondition_Family  \\\n",
       "0                      0                     0                     0   \n",
       "1                      0                     0                     0   \n",
       "2                      0                     0                     0   \n",
       "3                      0                     0                     0   \n",
       "4                      0                     0                     0   \n",
       "\n",
       "   SaleCondition_Normal  SaleCondition_Partial  \n",
       "0                     1                      0  \n",
       "1                     1                      0  \n",
       "2                     1                      0  \n",
       "3                     1                      0  \n",
       "4                     1                      0  \n",
       "\n",
       "[5 rows x 241 columns]"
      ]
     },
     "execution_count": 144,
     "metadata": {},
     "output_type": "execute_result"
    }
   ],
   "source": [
    "test_cleaned.head()"
   ]
  },
  {
   "cell_type": "markdown",
   "id": "3561ea55",
   "metadata": {},
   "source": [
    "### Assumptions "
   ]
  },
  {
   "cell_type": "code",
   "execution_count": 149,
   "id": "be4183fc",
   "metadata": {},
   "outputs": [],
   "source": [
    "import matplotlib\n",
    "from matplotlib import pyplot\n",
    "import seaborn as sns\n",
    "\n",
    "%matplotlib inline"
   ]
  },
  {
   "cell_type": "code",
   "execution_count": 150,
   "id": "3b6325c9",
   "metadata": {},
   "outputs": [
    {
     "name": "stderr",
     "output_type": "stream",
     "text": [
      "C:\\Users\\DELL\\anaconda3\\lib\\site-packages\\seaborn\\distributions.py:2557: FutureWarning: `distplot` is a deprecated function and will be removed in a future version. Please adapt your code to use either `displot` (a figure-level function with similar flexibility) or `histplot` (an axes-level function for histograms).\n",
      "  warnings.warn(msg, FutureWarning)\n"
     ]
    },
    {
     "data": {
      "text/plain": [
       "<AxesSubplot:xlabel='SalePrice', ylabel='Density'>"
      ]
     },
     "execution_count": 150,
     "metadata": {},
     "output_type": "execute_result"
    },
    {
     "data": {
      "image/png": "[encoded data removed]",
      "text/plain": [
       "<Figure size 432x288 with 1 Axes>"
      ]
     },
     "metadata": {
      "needs_background": "light"
     },
     "output_type": "display_data"
    }
   ],
   "source": [
    "sns.distplot(train.SalePrice)"
   ]
  },
  {
   "cell_type": "code",
   "execution_count": 151,
   "id": "c6142b3a",
   "metadata": {},
   "outputs": [
    {
     "data": {
      "text/plain": [
       "LotFrontage      0.372647\n",
       "LotArea          0.434327\n",
       "OverallQual      0.747012\n",
       "OverallCond     -0.115033\n",
       "YearBuilt        0.537470\n",
       "YearRemodAdd     0.504409\n",
       "MasVnrArea       0.456347\n",
       "BsmtFinSF1       0.371463\n",
       "BsmtFinSF2      -0.045118\n",
       "BsmtUnfSF        0.191118\n",
       "TotalBsmtSF      0.626933\n",
       "1stFlrSF         0.602109\n",
       "2ndFlrSF         0.280962\n",
       "LowQualFinSF          NaN\n",
       "GrLivArea        0.696737\n",
       "BsmtFullBath     0.230846\n",
       "BsmtHalfBath    -0.015957\n",
       "FullBath         0.522577\n",
       "HalfBath         0.299111\n",
       "BedroomAbvGr     0.215004\n",
       "KitchenAbvGr          NaN\n",
       "TotRmsAbvGrd     0.536888\n",
       "Fireplaces       0.469543\n",
       "GarageYrBlt      0.479227\n",
       "GarageCars       0.646652\n",
       "GarageArea       0.630198\n",
       "WoodDeckSF       0.334923\n",
       "OpenPorchSF      0.366878\n",
       "EnclosedPorch   -0.153472\n",
       "3SsnPorch             NaN\n",
       "ScreenPorch      0.101139\n",
       "PoolArea              NaN\n",
       "MiscVal               NaN\n",
       "MoSold           0.048552\n",
       "YrSold          -0.028923\n",
       "dtype: float64"
      ]
     },
     "execution_count": 151,
     "metadata": {},
     "output_type": "execute_result"
    }
   ],
   "source": [
    "## Correlation between x and y variables\n",
    "train_num.corrwith(train_cleaned.SalePrice)"
   ]
  },
  {
   "cell_type": "code",
   "execution_count": 153,
   "id": "283a8ffa",
   "metadata": {},
   "outputs": [],
   "source": [
    "## Correlation between x and x variables\n",
    "corr_matrix = train_num.corr()"
   ]
  },
  {
   "cell_type": "code",
   "execution_count": 154,
   "id": "e968c63f",
   "metadata": {},
   "outputs": [
    {
     "data": {
      "text/plain": [
       "<AxesSubplot:>"
      ]
     },
     "execution_count": 154,
     "metadata": {},
     "output_type": "execute_result"
    },
    {
     "data": {
      "image/png": "[encoded data removed]",
      "text/plain": [
       "<Figure size 432x288 with 2 Axes>"
      ]
     },
     "metadata": {
      "needs_background": "light"
     },
     "output_type": "display_data"
    }
   ],
   "source": [
    "sns.heatmap(corr_matrix)"
   ]
  },
  {
   "cell_type": "markdown",
   "id": "e70d17ae",
   "metadata": {},
   "source": [
    "## Feature Selection\n"
   ]
  },
  {
   "cell_type": "markdown",
   "id": "81f4cd26",
   "metadata": {},
   "source": [
    "### RFE\n"
   ]
  },
  {
   "cell_type": "code",
   "execution_count": 158,
   "id": "69b3d5e8",
   "metadata": {},
   "outputs": [],
   "source": [
    "features = train_cleaned[train_cleaned.columns.difference(['SalePrice'])]"
   ]
  },
  {
   "cell_type": "code",
   "execution_count": 160,
   "id": "f1adb607",
   "metadata": {},
   "outputs": [],
   "source": [
    "target = train_cleaned['SalePrice']"
   ]
  },
  {
   "cell_type": "code",
   "execution_count": 164,
   "id": "fde3ba6e",
   "metadata": {},
   "outputs": [],
   "source": [
    "from sklearn.feature_selection import RFE"
   ]
  },
  {
   "cell_type": "code",
   "execution_count": 165,
   "id": "633ec9e6",
   "metadata": {},
   "outputs": [],
   "source": [
    "### Initlalzing the RFE Model\n",
    "rfe = RFE(LinearRegression(), n_features_to_select=15)"
   ]
  },
  {
   "cell_type": "code",
   "execution_count": 166,
   "id": "4f3ac335",
   "metadata": {},
   "outputs": [],
   "source": [
    "rfe = rfe.fit(features, target)"
   ]
  },
  {
   "cell_type": "code",
   "execution_count": 167,
   "id": "13a4956e",
   "metadata": {},
   "outputs": [
    {
     "data": {
      "text/plain": [
       "Index(['ExterQual_Fa', 'ExterQual_Gd', 'ExterQual_TA', 'GarageCond_Gd',\n",
       "       'GarageCond_TA', 'GarageQual_Po', 'PoolQC_Fa', 'PoolQC_Gd',\n",
       "       'RoofMatl_CompShg', 'RoofMatl_Membran', 'RoofMatl_Metal',\n",
       "       'RoofMatl_Roll', 'RoofMatl_Tar&Grv', 'RoofMatl_WdShake',\n",
       "       'RoofMatl_WdShngl'],\n",
       "      dtype='object')"
      ]
     },
     "execution_count": 167,
     "metadata": {},
     "output_type": "execute_result"
    }
   ],
   "source": [
    "features.columns[rfe.get_support()]"
   ]
  },
  {
   "cell_type": "markdown",
   "id": "e1f53bad",
   "metadata": {},
   "source": [
    "### Select K best "
   ]
  },
  {
   "cell_type": "code",
   "execution_count": 168,
   "id": "fce66635",
   "metadata": {},
   "outputs": [
    {
     "name": "stderr",
     "output_type": "stream",
     "text": [
      "C:\\Users\\DELL\\anaconda3\\lib\\site-packages\\sklearn\\feature_selection\\_univariate_selection.py:114: UserWarning: Features [  2  47  56  67  83 146 164 190 221 242] are constant.\n",
      "  warnings.warn(\"Features %s are constant.\" % constant_features_idx,\n",
      "C:\\Users\\DELL\\anaconda3\\lib\\site-packages\\sklearn\\feature_selection\\_univariate_selection.py:116: RuntimeWarning: divide by zero encountered in true_divide\n",
      "  f = msb / msw\n",
      "C:\\Users\\DELL\\anaconda3\\lib\\site-packages\\sklearn\\feature_selection\\_univariate_selection.py:116: RuntimeWarning: invalid value encountered in true_divide\n",
      "  f = msb / msw\n"
     ]
    },
    {
     "data": {
      "text/plain": [
       "Index(['BsmtCond_Po', 'Condition2_PosN', 'Condition2_RRAn', 'ExterCond_Po',\n",
       "       'Exterior1st_ImStucc', 'Exterior2nd_Other', 'GarageCars', 'GrLivArea',\n",
       "       'Neighborhood_NoRidge', 'Neighborhood_NridgHt', 'OverallQual',\n",
       "       'SaleCondition_Alloca', 'SaleCondition_Partial', 'SaleType_Con',\n",
       "       'SaleType_New'],\n",
       "      dtype='object')"
      ]
     },
     "execution_count": 168,
     "metadata": {},
     "output_type": "execute_result"
    }
   ],
   "source": [
    "from sklearn.feature_selection import SelectKBest, f_classif\n",
    "SKB = SelectKBest(f_classif, k=15).fit(features, target )\n",
    "\n",
    "features.columns[SKB.get_support()]"
   ]
  },
  {
   "cell_type": "markdown",
   "id": "230a9e0d",
   "metadata": {},
   "source": [
    "### VIF "
   ]
  },
  {
   "cell_type": "code",
   "execution_count": 169,
   "id": "b8fd927a",
   "metadata": {},
   "outputs": [],
   "source": [
    "from statsmodels.stats.outliers_influence import variance_inflation_factor"
   ]
  },
  {
   "cell_type": "code",
   "execution_count": 170,
   "id": "4967c19c",
   "metadata": {},
   "outputs": [
    {
     "name": "stderr",
     "output_type": "stream",
     "text": [
      "C:\\Users\\DELL\\anaconda3\\lib\\site-packages\\statsmodels\\regression\\linear_model.py:1715: RuntimeWarning: invalid value encountered in double_scalars\n",
      "  return 1 - self.ssr/self.centered_tss\n",
      "C:\\Users\\DELL\\anaconda3\\lib\\site-packages\\statsmodels\\stats\\outliers_influence.py:193: RuntimeWarning: divide by zero encountered in double_scalars\n",
      "  vif = 1. / (1. - r_squared_i)\n"
     ]
    }
   ],
   "source": [
    "VIF = [variance_inflation_factor(features.values,i) for i in range(features.shape[1])]"
   ]
  },
  {
   "cell_type": "code",
   "execution_count": 171,
   "id": "f0493614",
   "metadata": {},
   "outputs": [],
   "source": [
    "VIF = pd.Series(VIF, name='VIF')"
   ]
  },
  {
   "cell_type": "code",
   "execution_count": 172,
   "id": "b908473d",
   "metadata": {},
   "outputs": [],
   "source": [
    "cols = pd.Series(features.columns, name='Column_Name')"
   ]
  },
  {
   "cell_type": "code",
   "execution_count": 173,
   "id": "709df2db",
   "metadata": {},
   "outputs": [],
   "source": [
    "VIF_res = pd.concat([cols,VIF],axis=1)"
   ]
  },
  {
   "cell_type": "code",
   "execution_count": 174,
   "id": "106b3bb1",
   "metadata": {},
   "outputs": [],
   "source": [
    "VIF_10 = VIF_res.sort_values(by=['VIF']).head(10)"
   ]
  },
  {
   "cell_type": "code",
   "execution_count": 175,
   "id": "e6f57ddd",
   "metadata": {},
   "outputs": [
    {
     "data": {
      "text/html": [
       "<div>\n",
       "<style scoped>\n",
       "    .dataframe tbody tr th:only-of-type {\n",
       "        vertical-align: middle;\n",
       "    }\n",
       "\n",
       "    .dataframe tbody tr th {\n",
       "        vertical-align: top;\n",
       "    }\n",
       "\n",
       "    .dataframe thead th {\n",
       "        text-align: right;\n",
       "    }\n",
       "</style>\n",
       "<table border=\"1\" class=\"dataframe\">\n",
       "  <thead>\n",
       "    <tr style=\"text-align: right;\">\n",
       "      <th></th>\n",
       "      <th>Column_Name</th>\n",
       "      <th>VIF</th>\n",
       "    </tr>\n",
       "  </thead>\n",
       "  <tbody>\n",
       "    <tr>\n",
       "      <th>40</th>\n",
       "      <td>Condition1_RRNe</td>\n",
       "      <td>1.177185</td>\n",
       "    </tr>\n",
       "    <tr>\n",
       "      <th>247</th>\n",
       "      <td>SaleType_Oth</td>\n",
       "      <td>1.205146</td>\n",
       "    </tr>\n",
       "    <tr>\n",
       "      <th>242</th>\n",
       "      <td>SaleType_Con</td>\n",
       "      <td>1.209942</td>\n",
       "    </tr>\n",
       "    <tr>\n",
       "      <th>102</th>\n",
       "      <td>Foundation_Wood</td>\n",
       "      <td>1.244475</td>\n",
       "    </tr>\n",
       "    <tr>\n",
       "      <th>158</th>\n",
       "      <td>LotConfig_FR3</td>\n",
       "      <td>1.246145</td>\n",
       "    </tr>\n",
       "    <tr>\n",
       "      <th>191</th>\n",
       "      <td>MoSold</td>\n",
       "      <td>1.254848</td>\n",
       "    </tr>\n",
       "    <tr>\n",
       "      <th>244</th>\n",
       "      <td>SaleType_ConLI</td>\n",
       "      <td>1.295571</td>\n",
       "    </tr>\n",
       "    <tr>\n",
       "      <th>241</th>\n",
       "      <td>SaleType_CWD</td>\n",
       "      <td>1.297072</td>\n",
       "    </tr>\n",
       "    <tr>\n",
       "      <th>249</th>\n",
       "      <td>ScreenPorch</td>\n",
       "      <td>1.308846</td>\n",
       "    </tr>\n",
       "    <tr>\n",
       "      <th>257</th>\n",
       "      <td>YrSold</td>\n",
       "      <td>1.336694</td>\n",
       "    </tr>\n",
       "  </tbody>\n",
       "</table>\n",
       "</div>"
      ],
      "text/plain": [
       "         Column_Name       VIF\n",
       "40   Condition1_RRNe  1.177185\n",
       "247     SaleType_Oth  1.205146\n",
       "242     SaleType_Con  1.209942\n",
       "102  Foundation_Wood  1.244475\n",
       "158    LotConfig_FR3  1.246145\n",
       "191           MoSold  1.254848\n",
       "244   SaleType_ConLI  1.295571\n",
       "241     SaleType_CWD  1.297072\n",
       "249      ScreenPorch  1.308846\n",
       "257           YrSold  1.336694"
      ]
     },
     "execution_count": 175,
     "metadata": {},
     "output_type": "execute_result"
    }
   ],
   "source": [
    "VIF_10"
   ]
  },
  {
   "cell_type": "markdown",
   "id": "c971c30e",
   "metadata": {},
   "source": [
    "## Final list"
   ]
  },
  {
   "cell_type": "code",
   "execution_count": 262,
   "id": "73697b36",
   "metadata": {},
   "outputs": [],
   "source": [
    "final_imp_features = {'ExterQual_Fa', 'ExterQual_Gd', 'ExterQual_TA', 'GarageCond_Gd',\n",
    "       'GarageCond_TA', 'GarageQual_Po','PoolQC_Gd','RoofMatl_Tar&Grv', 'RoofMatl_WdShake',\n",
    "       'RoofMatl_WdShngl','BsmtCond_Po', 'Condition2_PosN','ExterCond_Po',\n",
    "        'GarageCars', 'GrLivArea','Neighborhood_NoRidge', 'Neighborhood_NridgHt', 'OverallQual',\n",
    "       'SaleCondition_Alloca', 'SaleCondition_Partial',\n",
    "       'SaleType_New'}"
   ]
  },
  {
   "cell_type": "code",
   "execution_count": 263,
   "id": "c865a576",
   "metadata": {},
   "outputs": [],
   "source": [
    "imp_features = list(final_imp_features)"
   ]
  },
  {
   "cell_type": "code",
   "execution_count": 264,
   "id": "f392f478",
   "metadata": {},
   "outputs": [],
   "source": [
    "train_final_X = train_cleaned[imp_features]"
   ]
  },
  {
   "cell_type": "code",
   "execution_count": 265,
   "id": "de441474",
   "metadata": {},
   "outputs": [
    {
     "data": {
      "text/html": [
       "<div>\n",
       "<style scoped>\n",
       "    .dataframe tbody tr th:only-of-type {\n",
       "        vertical-align: middle;\n",
       "    }\n",
       "\n",
       "    .dataframe tbody tr th {\n",
       "        vertical-align: top;\n",
       "    }\n",
       "\n",
       "    .dataframe thead th {\n",
       "        text-align: right;\n",
       "    }\n",
       "</style>\n",
       "<table border=\"1\" class=\"dataframe\">\n",
       "  <thead>\n",
       "    <tr style=\"text-align: right;\">\n",
       "      <th></th>\n",
       "      <th>SaleCondition_Alloca</th>\n",
       "      <th>PoolQC_Gd</th>\n",
       "      <th>RoofMatl_WdShake</th>\n",
       "      <th>GarageCond_Gd</th>\n",
       "      <th>Neighborhood_NridgHt</th>\n",
       "      <th>ExterQual_TA</th>\n",
       "      <th>Neighborhood_NoRidge</th>\n",
       "      <th>ExterQual_Fa</th>\n",
       "      <th>SaleType_New</th>\n",
       "      <th>RoofMatl_Tar&amp;Grv</th>\n",
       "      <th>...</th>\n",
       "      <th>GrLivArea</th>\n",
       "      <th>OverallQual</th>\n",
       "      <th>ExterQual_Gd</th>\n",
       "      <th>ExterCond_Po</th>\n",
       "      <th>SaleCondition_Partial</th>\n",
       "      <th>GarageQual_Po</th>\n",
       "      <th>GarageCars</th>\n",
       "      <th>GarageCond_TA</th>\n",
       "      <th>BsmtCond_Po</th>\n",
       "      <th>Condition2_PosN</th>\n",
       "    </tr>\n",
       "  </thead>\n",
       "  <tbody>\n",
       "    <tr>\n",
       "      <th>0</th>\n",
       "      <td>0</td>\n",
       "      <td>1</td>\n",
       "      <td>0</td>\n",
       "      <td>0</td>\n",
       "      <td>0</td>\n",
       "      <td>0</td>\n",
       "      <td>0</td>\n",
       "      <td>0</td>\n",
       "      <td>0</td>\n",
       "      <td>0</td>\n",
       "      <td>...</td>\n",
       "      <td>1710.0</td>\n",
       "      <td>7</td>\n",
       "      <td>1</td>\n",
       "      <td>0</td>\n",
       "      <td>0</td>\n",
       "      <td>0</td>\n",
       "      <td>2</td>\n",
       "      <td>1</td>\n",
       "      <td>0</td>\n",
       "      <td>0</td>\n",
       "    </tr>\n",
       "    <tr>\n",
       "      <th>1</th>\n",
       "      <td>0</td>\n",
       "      <td>1</td>\n",
       "      <td>0</td>\n",
       "      <td>0</td>\n",
       "      <td>0</td>\n",
       "      <td>1</td>\n",
       "      <td>0</td>\n",
       "      <td>0</td>\n",
       "      <td>0</td>\n",
       "      <td>0</td>\n",
       "      <td>...</td>\n",
       "      <td>1262.0</td>\n",
       "      <td>6</td>\n",
       "      <td>0</td>\n",
       "      <td>0</td>\n",
       "      <td>0</td>\n",
       "      <td>0</td>\n",
       "      <td>2</td>\n",
       "      <td>1</td>\n",
       "      <td>0</td>\n",
       "      <td>0</td>\n",
       "    </tr>\n",
       "    <tr>\n",
       "      <th>2</th>\n",
       "      <td>0</td>\n",
       "      <td>1</td>\n",
       "      <td>0</td>\n",
       "      <td>0</td>\n",
       "      <td>0</td>\n",
       "      <td>0</td>\n",
       "      <td>0</td>\n",
       "      <td>0</td>\n",
       "      <td>0</td>\n",
       "      <td>0</td>\n",
       "      <td>...</td>\n",
       "      <td>1786.0</td>\n",
       "      <td>7</td>\n",
       "      <td>1</td>\n",
       "      <td>0</td>\n",
       "      <td>0</td>\n",
       "      <td>0</td>\n",
       "      <td>2</td>\n",
       "      <td>1</td>\n",
       "      <td>0</td>\n",
       "      <td>0</td>\n",
       "    </tr>\n",
       "    <tr>\n",
       "      <th>3</th>\n",
       "      <td>0</td>\n",
       "      <td>1</td>\n",
       "      <td>0</td>\n",
       "      <td>0</td>\n",
       "      <td>0</td>\n",
       "      <td>1</td>\n",
       "      <td>0</td>\n",
       "      <td>0</td>\n",
       "      <td>0</td>\n",
       "      <td>0</td>\n",
       "      <td>...</td>\n",
       "      <td>1717.0</td>\n",
       "      <td>7</td>\n",
       "      <td>0</td>\n",
       "      <td>0</td>\n",
       "      <td>0</td>\n",
       "      <td>0</td>\n",
       "      <td>3</td>\n",
       "      <td>1</td>\n",
       "      <td>0</td>\n",
       "      <td>0</td>\n",
       "    </tr>\n",
       "    <tr>\n",
       "      <th>4</th>\n",
       "      <td>0</td>\n",
       "      <td>1</td>\n",
       "      <td>0</td>\n",
       "      <td>0</td>\n",
       "      <td>0</td>\n",
       "      <td>0</td>\n",
       "      <td>1</td>\n",
       "      <td>0</td>\n",
       "      <td>0</td>\n",
       "      <td>0</td>\n",
       "      <td>...</td>\n",
       "      <td>2198.0</td>\n",
       "      <td>8</td>\n",
       "      <td>1</td>\n",
       "      <td>0</td>\n",
       "      <td>0</td>\n",
       "      <td>0</td>\n",
       "      <td>3</td>\n",
       "      <td>1</td>\n",
       "      <td>0</td>\n",
       "      <td>0</td>\n",
       "    </tr>\n",
       "  </tbody>\n",
       "</table>\n",
       "<p>5 rows × 21 columns</p>\n",
       "</div>"
      ],
      "text/plain": [
       "   SaleCondition_Alloca  PoolQC_Gd  RoofMatl_WdShake  GarageCond_Gd  \\\n",
       "0                     0          1                 0              0   \n",
       "1                     0          1                 0              0   \n",
       "2                     0          1                 0              0   \n",
       "3                     0          1                 0              0   \n",
       "4                     0          1                 0              0   \n",
       "\n",
       "   Neighborhood_NridgHt  ExterQual_TA  Neighborhood_NoRidge  ExterQual_Fa  \\\n",
       "0                     0             0                     0             0   \n",
       "1                     0             1                     0             0   \n",
       "2                     0             0                     0             0   \n",
       "3                     0             1                     0             0   \n",
       "4                     0             0                     1             0   \n",
       "\n",
       "   SaleType_New  RoofMatl_Tar&Grv  ...  GrLivArea  OverallQual  ExterQual_Gd  \\\n",
       "0             0                 0  ...     1710.0            7             1   \n",
       "1             0                 0  ...     1262.0            6             0   \n",
       "2             0                 0  ...     1786.0            7             1   \n",
       "3             0                 0  ...     1717.0            7             0   \n",
       "4             0                 0  ...     2198.0            8             1   \n",
       "\n",
       "   ExterCond_Po  SaleCondition_Partial  GarageQual_Po  GarageCars  \\\n",
       "0             0                      0              0           2   \n",
       "1             0                      0              0           2   \n",
       "2             0                      0              0           2   \n",
       "3             0                      0              0           3   \n",
       "4             0                      0              0           3   \n",
       "\n",
       "   GarageCond_TA  BsmtCond_Po  Condition2_PosN  \n",
       "0              1            0                0  \n",
       "1              1            0                0  \n",
       "2              1            0                0  \n",
       "3              1            0                0  \n",
       "4              1            0                0  \n",
       "\n",
       "[5 rows x 21 columns]"
      ]
     },
     "execution_count": 265,
     "metadata": {},
     "output_type": "execute_result"
    }
   ],
   "source": [
    "train_final_X.head()"
   ]
  },
  {
   "cell_type": "code",
   "execution_count": 266,
   "id": "53d691d7",
   "metadata": {},
   "outputs": [],
   "source": [
    "train_final_Y = train_cleaned.loc[:,['SalePrice']]"
   ]
  },
  {
   "cell_type": "code",
   "execution_count": 267,
   "id": "07b171d7",
   "metadata": {},
   "outputs": [],
   "source": [
    "train_final = pd.concat([train_final_X,train_final_Y],axis=1)"
   ]
  },
  {
   "cell_type": "code",
   "execution_count": 268,
   "id": "8c2c2f75",
   "metadata": {},
   "outputs": [
    {
     "data": {
      "text/html": [
       "<div>\n",
       "<style scoped>\n",
       "    .dataframe tbody tr th:only-of-type {\n",
       "        vertical-align: middle;\n",
       "    }\n",
       "\n",
       "    .dataframe tbody tr th {\n",
       "        vertical-align: top;\n",
       "    }\n",
       "\n",
       "    .dataframe thead th {\n",
       "        text-align: right;\n",
       "    }\n",
       "</style>\n",
       "<table border=\"1\" class=\"dataframe\">\n",
       "  <thead>\n",
       "    <tr style=\"text-align: right;\">\n",
       "      <th></th>\n",
       "      <th>SaleCondition_Alloca</th>\n",
       "      <th>PoolQC_Gd</th>\n",
       "      <th>RoofMatl_WdShake</th>\n",
       "      <th>GarageCond_Gd</th>\n",
       "      <th>Neighborhood_NridgHt</th>\n",
       "      <th>ExterQual_TA</th>\n",
       "      <th>Neighborhood_NoRidge</th>\n",
       "      <th>ExterQual_Fa</th>\n",
       "      <th>SaleType_New</th>\n",
       "      <th>RoofMatl_Tar&amp;Grv</th>\n",
       "      <th>...</th>\n",
       "      <th>OverallQual</th>\n",
       "      <th>ExterQual_Gd</th>\n",
       "      <th>ExterCond_Po</th>\n",
       "      <th>SaleCondition_Partial</th>\n",
       "      <th>GarageQual_Po</th>\n",
       "      <th>GarageCars</th>\n",
       "      <th>GarageCond_TA</th>\n",
       "      <th>BsmtCond_Po</th>\n",
       "      <th>Condition2_PosN</th>\n",
       "      <th>SalePrice</th>\n",
       "    </tr>\n",
       "  </thead>\n",
       "  <tbody>\n",
       "    <tr>\n",
       "      <th>0</th>\n",
       "      <td>0</td>\n",
       "      <td>1</td>\n",
       "      <td>0</td>\n",
       "      <td>0</td>\n",
       "      <td>0</td>\n",
       "      <td>0</td>\n",
       "      <td>0</td>\n",
       "      <td>0</td>\n",
       "      <td>0</td>\n",
       "      <td>0</td>\n",
       "      <td>...</td>\n",
       "      <td>7</td>\n",
       "      <td>1</td>\n",
       "      <td>0</td>\n",
       "      <td>0</td>\n",
       "      <td>0</td>\n",
       "      <td>2</td>\n",
       "      <td>1</td>\n",
       "      <td>0</td>\n",
       "      <td>0</td>\n",
       "      <td>208500</td>\n",
       "    </tr>\n",
       "    <tr>\n",
       "      <th>1</th>\n",
       "      <td>0</td>\n",
       "      <td>1</td>\n",
       "      <td>0</td>\n",
       "      <td>0</td>\n",
       "      <td>0</td>\n",
       "      <td>1</td>\n",
       "      <td>0</td>\n",
       "      <td>0</td>\n",
       "      <td>0</td>\n",
       "      <td>0</td>\n",
       "      <td>...</td>\n",
       "      <td>6</td>\n",
       "      <td>0</td>\n",
       "      <td>0</td>\n",
       "      <td>0</td>\n",
       "      <td>0</td>\n",
       "      <td>2</td>\n",
       "      <td>1</td>\n",
       "      <td>0</td>\n",
       "      <td>0</td>\n",
       "      <td>181500</td>\n",
       "    </tr>\n",
       "    <tr>\n",
       "      <th>2</th>\n",
       "      <td>0</td>\n",
       "      <td>1</td>\n",
       "      <td>0</td>\n",
       "      <td>0</td>\n",
       "      <td>0</td>\n",
       "      <td>0</td>\n",
       "      <td>0</td>\n",
       "      <td>0</td>\n",
       "      <td>0</td>\n",
       "      <td>0</td>\n",
       "      <td>...</td>\n",
       "      <td>7</td>\n",
       "      <td>1</td>\n",
       "      <td>0</td>\n",
       "      <td>0</td>\n",
       "      <td>0</td>\n",
       "      <td>2</td>\n",
       "      <td>1</td>\n",
       "      <td>0</td>\n",
       "      <td>0</td>\n",
       "      <td>223500</td>\n",
       "    </tr>\n",
       "    <tr>\n",
       "      <th>3</th>\n",
       "      <td>0</td>\n",
       "      <td>1</td>\n",
       "      <td>0</td>\n",
       "      <td>0</td>\n",
       "      <td>0</td>\n",
       "      <td>1</td>\n",
       "      <td>0</td>\n",
       "      <td>0</td>\n",
       "      <td>0</td>\n",
       "      <td>0</td>\n",
       "      <td>...</td>\n",
       "      <td>7</td>\n",
       "      <td>0</td>\n",
       "      <td>0</td>\n",
       "      <td>0</td>\n",
       "      <td>0</td>\n",
       "      <td>3</td>\n",
       "      <td>1</td>\n",
       "      <td>0</td>\n",
       "      <td>0</td>\n",
       "      <td>140000</td>\n",
       "    </tr>\n",
       "    <tr>\n",
       "      <th>4</th>\n",
       "      <td>0</td>\n",
       "      <td>1</td>\n",
       "      <td>0</td>\n",
       "      <td>0</td>\n",
       "      <td>0</td>\n",
       "      <td>0</td>\n",
       "      <td>1</td>\n",
       "      <td>0</td>\n",
       "      <td>0</td>\n",
       "      <td>0</td>\n",
       "      <td>...</td>\n",
       "      <td>8</td>\n",
       "      <td>1</td>\n",
       "      <td>0</td>\n",
       "      <td>0</td>\n",
       "      <td>0</td>\n",
       "      <td>3</td>\n",
       "      <td>1</td>\n",
       "      <td>0</td>\n",
       "      <td>0</td>\n",
       "      <td>250000</td>\n",
       "    </tr>\n",
       "  </tbody>\n",
       "</table>\n",
       "<p>5 rows × 22 columns</p>\n",
       "</div>"
      ],
      "text/plain": [
       "   SaleCondition_Alloca  PoolQC_Gd  RoofMatl_WdShake  GarageCond_Gd  \\\n",
       "0                     0          1                 0              0   \n",
       "1                     0          1                 0              0   \n",
       "2                     0          1                 0              0   \n",
       "3                     0          1                 0              0   \n",
       "4                     0          1                 0              0   \n",
       "\n",
       "   Neighborhood_NridgHt  ExterQual_TA  Neighborhood_NoRidge  ExterQual_Fa  \\\n",
       "0                     0             0                     0             0   \n",
       "1                     0             1                     0             0   \n",
       "2                     0             0                     0             0   \n",
       "3                     0             1                     0             0   \n",
       "4                     0             0                     1             0   \n",
       "\n",
       "   SaleType_New  RoofMatl_Tar&Grv  ...  OverallQual  ExterQual_Gd  \\\n",
       "0             0                 0  ...            7             1   \n",
       "1             0                 0  ...            6             0   \n",
       "2             0                 0  ...            7             1   \n",
       "3             0                 0  ...            7             0   \n",
       "4             0                 0  ...            8             1   \n",
       "\n",
       "   ExterCond_Po  SaleCondition_Partial  GarageQual_Po  GarageCars  \\\n",
       "0             0                      0              0           2   \n",
       "1             0                      0              0           2   \n",
       "2             0                      0              0           2   \n",
       "3             0                      0              0           3   \n",
       "4             0                      0              0           3   \n",
       "\n",
       "   GarageCond_TA  BsmtCond_Po  Condition2_PosN  SalePrice  \n",
       "0              1            0                0     208500  \n",
       "1              1            0                0     181500  \n",
       "2              1            0                0     223500  \n",
       "3              1            0                0     140000  \n",
       "4              1            0                0     250000  \n",
       "\n",
       "[5 rows x 22 columns]"
      ]
     },
     "execution_count": 268,
     "metadata": {},
     "output_type": "execute_result"
    }
   ],
   "source": [
    "train_final.head()"
   ]
  },
  {
   "cell_type": "markdown",
   "id": "0cf0f54b",
   "metadata": {},
   "source": [
    "## Resampling of data"
   ]
  },
  {
   "cell_type": "code",
   "execution_count": 269,
   "id": "bf9a5c1d",
   "metadata": {},
   "outputs": [],
   "source": [
    "from sklearn.model_selection import train_test_split"
   ]
  },
  {
   "cell_type": "code",
   "execution_count": 270,
   "id": "55886c71",
   "metadata": {},
   "outputs": [],
   "source": [
    "X_train,X_valid,y_train,y_valid  = train_test_split(train_final_X,train_final_Y, test_size=0.2, random_state=22)"
   ]
  },
  {
   "cell_type": "markdown",
   "id": "4a618f2d",
   "metadata": {},
   "source": [
    "## Random Forest "
   ]
  },
  {
   "cell_type": "code",
   "execution_count": 271,
   "id": "16f1930a",
   "metadata": {},
   "outputs": [
    {
     "name": "stdout",
     "output_type": "stream",
     "text": [
      "Fitting 5 folds for each of 90 candidates, totalling 450 fits\n"
     ]
    },
    {
     "name": "stderr",
     "output_type": "stream",
     "text": [
      "C:\\Users\\DELL\\anaconda3\\lib\\site-packages\\sklearn\\model_selection\\_search.py:880: DataConversionWarning: A column-vector y was passed when a 1d array was expected. Please change the shape of y to (n_samples,), for example using ravel().\n",
      "  self.best_estimator_.fit(X, y, **fit_params)\n"
     ]
    },
    {
     "data": {
      "text/plain": [
       "GridSearchCV(cv=5, estimator=RandomForestRegressor(), n_jobs=-1,\n",
       "             param_grid={'max_depth': [2, 3, 4, 5, 6],\n",
       "                         'max_features': [2, 3, 4],\n",
       "                         'n_estimators': [50, 60, 70, 80, 90, 100]},\n",
       "             verbose=True)"
      ]
     },
     "execution_count": 271,
     "metadata": {},
     "output_type": "execute_result"
    }
   ],
   "source": [
    "from sklearn.ensemble import RandomForestRegressor\n",
    "from sklearn.model_selection import GridSearchCV\n",
    "\n",
    "pargrid_ada = {'n_estimators': [50, 60, 70, 80, 90, 100],\n",
    "                'max_features': [2,3,4],\n",
    "              'max_depth': [2,3,4,5,6]}\n",
    "gscv_Rf = GridSearchCV(estimator=RandomForestRegressor(), \n",
    "                        param_grid=pargrid_ada, \n",
    "                        cv=5,\n",
    "                        verbose=True, n_jobs=-1)\n",
    "gscv_Rf.fit(X_train,y_train)"
   ]
  },
  {
   "cell_type": "code",
   "execution_count": 272,
   "id": "4bca7cc0",
   "metadata": {},
   "outputs": [
    {
     "data": {
      "text/plain": [
       "{'max_depth': 6, 'max_features': 4, 'n_estimators': 80}"
      ]
     },
     "execution_count": 272,
     "metadata": {},
     "output_type": "execute_result"
    }
   ],
   "source": [
    "gscv_Rf.best_params_"
   ]
  },
  {
   "cell_type": "code",
   "execution_count": 273,
   "id": "908deb9d",
   "metadata": {},
   "outputs": [
    {
     "name": "stderr",
     "output_type": "stream",
     "text": [
      "<ipython-input-273-53b0f29551f2>:2: DataConversionWarning: A column-vector y was passed when a 1d array was expected. Please change the shape of y to (n_samples,), for example using ravel().\n",
      "  best_model.fit(X_train,y_train)\n"
     ]
    },
    {
     "data": {
      "text/plain": [
       "RandomForestRegressor(max_depth=6, max_features=4, n_estimators=80)"
      ]
     },
     "execution_count": 273,
     "metadata": {},
     "output_type": "execute_result"
    }
   ],
   "source": [
    "best_model = RandomForestRegressor(max_depth=6, max_features=4, n_estimators=80)\n",
    "best_model.fit(X_train,y_train)"
   ]
  },
  {
   "cell_type": "code",
   "execution_count": 274,
   "id": "1d63a7e9",
   "metadata": {
    "scrolled": true
   },
   "outputs": [
    {
     "name": "stdout",
     "output_type": "stream",
     "text": [
      "R2_train 0.8215\n"
     ]
    }
   ],
   "source": [
    "R2_train = round(metrics.r2_score(y_train ,best_model.predict(X_train)),4)\n",
    "print('R2_train',R2_train)"
   ]
  },
  {
   "cell_type": "code",
   "execution_count": 275,
   "id": "cb3864fe",
   "metadata": {},
   "outputs": [
    {
     "name": "stdout",
     "output_type": "stream",
     "text": [
      "R2_valid 0.8021\n"
     ]
    }
   ],
   "source": [
    "R2_valid = round(metrics.r2_score(y_valid ,best_model.predict(X_valid)),4)\n",
    "print('R2_valid',R2_valid)"
   ]
  },
  {
   "cell_type": "markdown",
   "id": "40bb0acd",
   "metadata": {},
   "source": [
    "### RMSLE Evaluation "
   ]
  },
  {
   "cell_type": "code",
   "execution_count": 276,
   "id": "5204e6ad",
   "metadata": {},
   "outputs": [],
   "source": [
    "from sklearn.metrics import mean_squared_log_error"
   ]
  },
  {
   "cell_type": "code",
   "execution_count": 277,
   "id": "89e501cd",
   "metadata": {},
   "outputs": [
    {
     "data": {
      "text/plain": [
       "0.1855242611565294"
      ]
     },
     "execution_count": 277,
     "metadata": {},
     "output_type": "execute_result"
    }
   ],
   "source": [
    "np.sqrt(mean_squared_log_error(y_train, best_model.predict(X_train)))"
   ]
  },
  {
   "cell_type": "code",
   "execution_count": 278,
   "id": "6094135a",
   "metadata": {},
   "outputs": [
    {
     "data": {
      "text/plain": [
       "0.19444032742508205"
      ]
     },
     "execution_count": 278,
     "metadata": {},
     "output_type": "execute_result"
    }
   ],
   "source": [
    "np.sqrt(mean_squared_log_error(y_valid, best_model.predict(X_valid)))"
   ]
  },
  {
   "cell_type": "markdown",
   "id": "45df728d",
   "metadata": {},
   "source": [
    "##  Gradient Boost"
   ]
  },
  {
   "cell_type": "code",
   "execution_count": 279,
   "id": "9796e929",
   "metadata": {},
   "outputs": [],
   "source": [
    "from sklearn.ensemble import GradientBoostingRegressor"
   ]
  },
  {
   "cell_type": "code",
   "execution_count": 280,
   "id": "478c2560",
   "metadata": {},
   "outputs": [],
   "source": [
    "pargrid_ada = {'n_estimators': [100, 200, 400, 600, 800],\n",
    "               'learning_rate': [10 ** x for x in range(-3, 3)],\n",
    "              'max_features' : [2,3,4]}"
   ]
  },
  {
   "cell_type": "code",
   "execution_count": 281,
   "id": "2a8c1a48",
   "metadata": {},
   "outputs": [
    {
     "name": "stdout",
     "output_type": "stream",
     "text": [
      "Fitting 5 folds for each of 90 candidates, totalling 450 fits\n"
     ]
    },
    {
     "name": "stderr",
     "output_type": "stream",
     "text": [
      "C:\\Users\\DELL\\anaconda3\\lib\\site-packages\\sklearn\\model_selection\\_search.py:918: UserWarning: One or more of the test scores are non-finite: [ 7.39337994e-002  1.43213276e-001  2.61166069e-001  3.58944974e-001\n",
      "  4.28784249e-001  9.12410195e-002  1.66489760e-001  2.99136655e-001\n",
      "  3.98650377e-001  4.73685768e-001  9.73149743e-002  1.83865192e-001\n",
      "  3.21576729e-001  4.25461100e-001  5.02253250e-001  4.84901097e-001\n",
      "  6.47859215e-001  7.31532712e-001  7.46828816e-001  7.53950978e-001\n",
      "  5.29000194e-001  6.83604496e-001  7.46306244e-001  7.54761705e-001\n",
      "  7.58621472e-001  5.62838167e-001  7.04738433e-001  7.53909976e-001\n",
      "  7.59634267e-001  7.63100107e-001  7.57825134e-001  7.52493136e-001\n",
      "  7.52063473e-001  7.51590555e-001  7.38833790e-001  7.57576160e-001\n",
      "  7.59992861e-001  7.42577629e-001  7.48141125e-001  7.38000786e-001\n",
      "  7.59244278e-001  7.48227256e-001  7.46856828e-001  7.40411430e-001\n",
      "  7.30129172e-001  6.99149828e-001  6.73039962e-001  6.72443279e-001\n",
      "  6.44429520e-001  6.54808942e-001  6.90185519e-001  6.40291417e-001\n",
      "  6.05720099e-001  6.16448986e-001  6.06955254e-001  6.78833346e-001\n",
      "  6.84083675e-001  6.23114697e-001  6.26576346e-001  6.25758855e-001\n",
      " -5.78653834e+161             -inf              nan              nan\n",
      "              nan -1.08959669e+162             -inf              nan\n",
      "              nan              nan -2.13520823e+173             -inf\n",
      "              nan              nan              nan             -inf\n",
      "              nan              nan              nan              nan\n",
      "             -inf              nan              nan              nan\n",
      "              nan             -inf              nan              nan\n",
      "              nan              nan]\n",
      "  warnings.warn(\n",
      "C:\\Users\\DELL\\anaconda3\\lib\\site-packages\\sklearn\\model_selection\\_search.py:925: RuntimeWarning: invalid value encountered in subtract\n",
      "  array_stds = np.sqrt(np.average((array -\n",
      "C:\\Users\\DELL\\anaconda3\\lib\\site-packages\\sklearn\\model_selection\\_search.py:925: RuntimeWarning: overflow encountered in square\n",
      "  array_stds = np.sqrt(np.average((array -\n",
      "C:\\Users\\DELL\\anaconda3\\lib\\site-packages\\sklearn\\utils\\validation.py:63: DataConversionWarning: A column-vector y was passed when a 1d array was expected. Please change the shape of y to (n_samples, ), for example using ravel().\n",
      "  return f(*args, **kwargs)\n"
     ]
    },
    {
     "data": {
      "text/plain": [
       "GridSearchCV(cv=5, estimator=GradientBoostingRegressor(), n_jobs=-1,\n",
       "             param_grid={'learning_rate': [0.001, 0.01, 0.1, 1, 10, 100],\n",
       "                         'max_features': [2, 3, 4],\n",
       "                         'n_estimators': [100, 200, 400, 600, 800]},\n",
       "             verbose=True)"
      ]
     },
     "execution_count": 281,
     "metadata": {},
     "output_type": "execute_result"
    }
   ],
   "source": [
    "gscv_gbm = GridSearchCV(estimator=GradientBoostingRegressor(), \n",
    "                        param_grid=pargrid_ada, \n",
    "                        cv=5,\n",
    "                        verbose=True, n_jobs=-1)\n",
    "\n",
    "gscv_gbm.fit(X_train,y_train)"
   ]
  },
  {
   "cell_type": "code",
   "execution_count": 282,
   "id": "f66c35c8",
   "metadata": {},
   "outputs": [
    {
     "data": {
      "text/plain": [
       "{'learning_rate': 0.01, 'max_features': 4, 'n_estimators': 800}"
      ]
     },
     "execution_count": 282,
     "metadata": {},
     "output_type": "execute_result"
    }
   ],
   "source": [
    "gscv_gbm.best_params_"
   ]
  },
  {
   "cell_type": "code",
   "execution_count": 283,
   "id": "66b45487",
   "metadata": {},
   "outputs": [
    {
     "name": "stderr",
     "output_type": "stream",
     "text": [
      "C:\\Users\\DELL\\anaconda3\\lib\\site-packages\\sklearn\\utils\\validation.py:63: DataConversionWarning: A column-vector y was passed when a 1d array was expected. Please change the shape of y to (n_samples, ), for example using ravel().\n",
      "  return f(*args, **kwargs)\n"
     ]
    },
    {
     "data": {
      "text/plain": [
       "GradientBoostingRegressor(learning_rate=0.01, max_features=4, n_estimators=800)"
      ]
     },
     "execution_count": 283,
     "metadata": {},
     "output_type": "execute_result"
    }
   ],
   "source": [
    "gbm=GradientBoostingRegressor(learning_rate = 0.01, max_features = 4, n_estimators=800)\n",
    "gbm.fit(X_train,y_train)"
   ]
  },
  {
   "cell_type": "code",
   "execution_count": 284,
   "id": "ac2c9e59",
   "metadata": {},
   "outputs": [
    {
     "name": "stdout",
     "output_type": "stream",
     "text": [
      "R2_train 0.8451\n"
     ]
    }
   ],
   "source": [
    "R2_train = round(metrics.r2_score(y_train ,gbm.predict(X_train)),4)\n",
    "print('R2_train',R2_train)"
   ]
  },
  {
   "cell_type": "code",
   "execution_count": 285,
   "id": "4f6a0c0d",
   "metadata": {},
   "outputs": [
    {
     "name": "stdout",
     "output_type": "stream",
     "text": [
      "R2_valid 0.8192\n"
     ]
    }
   ],
   "source": [
    "R2_valid = round(metrics.r2_score(y_valid ,gbm.predict(X_valid)),4)\n",
    "print('R2_valid',R2_valid)"
   ]
  },
  {
   "cell_type": "markdown",
   "id": "22d9e1de",
   "metadata": {},
   "source": [
    "### RMSLE Evaluation "
   ]
  },
  {
   "cell_type": "code",
   "execution_count": 286,
   "id": "0226e94e",
   "metadata": {},
   "outputs": [
    {
     "data": {
      "text/plain": [
       "0.16860572787239103"
      ]
     },
     "execution_count": 286,
     "metadata": {},
     "output_type": "execute_result"
    }
   ],
   "source": [
    "np.sqrt(mean_squared_log_error(y_train, gbm.predict(X_train)))"
   ]
  },
  {
   "cell_type": "code",
   "execution_count": 287,
   "id": "e41d0e83",
   "metadata": {},
   "outputs": [
    {
     "data": {
      "text/plain": [
       "0.19444032742508205"
      ]
     },
     "execution_count": 287,
     "metadata": {},
     "output_type": "execute_result"
    }
   ],
   "source": [
    "np.sqrt(mean_squared_log_error(y_valid, best_model.predict(X_valid)))"
   ]
  },
  {
   "cell_type": "markdown",
   "id": "da1bde67",
   "metadata": {},
   "source": [
    "# Since gradient boosting technique gives better score, we will use this for test data predictions. "
   ]
  },
  {
   "cell_type": "code",
   "execution_count": 301,
   "id": "b77993dc",
   "metadata": {},
   "outputs": [],
   "source": [
    "imp_features = {'ExterQual_Fa', 'ExterQual_Gd', 'ExterQual_TA', 'GarageCond_Gd',\n",
    "       'GarageCond_TA', 'GarageQual_Po','PoolQC_Gd','RoofMatl_Tar&Grv', 'RoofMatl_WdShake',\n",
    "       'RoofMatl_WdShngl','BsmtCond_Po', 'Condition2_PosN', 'ExterCond_Po',\n",
    "        'GarageCars', 'GrLivArea','Neighborhood_NoRidge', 'Neighborhood_NridgHt', 'OverallQual',\n",
    "       'SaleCondition_Alloca', 'SaleCondition_Partial',\n",
    "       'SaleType_New'}"
   ]
  },
  {
   "cell_type": "code",
   "execution_count": 302,
   "id": "3b79efc4",
   "metadata": {},
   "outputs": [],
   "source": [
    "imp_f = list(imp_features)"
   ]
  },
  {
   "cell_type": "code",
   "execution_count": 303,
   "id": "c9ecd9cb",
   "metadata": {},
   "outputs": [],
   "source": [
    "final_test = test_cleaned[imp_f]"
   ]
  },
  {
   "cell_type": "code",
   "execution_count": 304,
   "id": "64c514e6",
   "metadata": {},
   "outputs": [],
   "source": [
    "Sale_price = gbm.predict(final_test)"
   ]
  },
  {
   "cell_type": "code",
   "execution_count": 305,
   "id": "3a1ddfaa",
   "metadata": {},
   "outputs": [],
   "source": [
    "Solution = pd.DataFrame(Sale_price)"
   ]
  },
  {
   "cell_type": "code",
   "execution_count": 307,
   "id": "34f2cbfa",
   "metadata": {},
   "outputs": [],
   "source": [
    "Solution = Solution.rename({0:'SalePrice'}, axis=1)"
   ]
  },
  {
   "cell_type": "code",
   "execution_count": 309,
   "id": "34609c85",
   "metadata": {},
   "outputs": [],
   "source": [
    "Solution = pd.concat([id,Solution], axis=1)"
   ]
  },
  {
   "cell_type": "code",
   "execution_count": 310,
   "id": "5c527bbf",
   "metadata": {},
   "outputs": [
    {
     "data": {
      "text/html": [
       "<div>\n",
       "<style scoped>\n",
       "    .dataframe tbody tr th:only-of-type {\n",
       "        vertical-align: middle;\n",
       "    }\n",
       "\n",
       "    .dataframe tbody tr th {\n",
       "        vertical-align: top;\n",
       "    }\n",
       "\n",
       "    .dataframe thead th {\n",
       "        text-align: right;\n",
       "    }\n",
       "</style>\n",
       "<table border=\"1\" class=\"dataframe\">\n",
       "  <thead>\n",
       "    <tr style=\"text-align: right;\">\n",
       "      <th></th>\n",
       "      <th>Id</th>\n",
       "      <th>SalePrice</th>\n",
       "    </tr>\n",
       "  </thead>\n",
       "  <tbody>\n",
       "    <tr>\n",
       "      <th>0</th>\n",
       "      <td>1461</td>\n",
       "      <td>134576.537258</td>\n",
       "    </tr>\n",
       "    <tr>\n",
       "      <th>1</th>\n",
       "      <td>1462</td>\n",
       "      <td>152882.694339</td>\n",
       "    </tr>\n",
       "    <tr>\n",
       "      <th>2</th>\n",
       "      <td>1463</td>\n",
       "      <td>178128.885845</td>\n",
       "    </tr>\n",
       "    <tr>\n",
       "      <th>3</th>\n",
       "      <td>1464</td>\n",
       "      <td>187522.842412</td>\n",
       "    </tr>\n",
       "    <tr>\n",
       "      <th>4</th>\n",
       "      <td>1465</td>\n",
       "      <td>221058.877612</td>\n",
       "    </tr>\n",
       "    <tr>\n",
       "      <th>...</th>\n",
       "      <td>...</td>\n",
       "      <td>...</td>\n",
       "    </tr>\n",
       "    <tr>\n",
       "      <th>1454</th>\n",
       "      <td>2915</td>\n",
       "      <td>110095.063664</td>\n",
       "    </tr>\n",
       "    <tr>\n",
       "      <th>1455</th>\n",
       "      <td>2916</td>\n",
       "      <td>123179.169224</td>\n",
       "    </tr>\n",
       "    <tr>\n",
       "      <th>1456</th>\n",
       "      <td>2917</td>\n",
       "      <td>158533.411357</td>\n",
       "    </tr>\n",
       "    <tr>\n",
       "      <th>1457</th>\n",
       "      <td>2918</td>\n",
       "      <td>120084.528855</td>\n",
       "    </tr>\n",
       "    <tr>\n",
       "      <th>1458</th>\n",
       "      <td>2919</td>\n",
       "      <td>311756.084660</td>\n",
       "    </tr>\n",
       "  </tbody>\n",
       "</table>\n",
       "<p>1459 rows × 2 columns</p>\n",
       "</div>"
      ],
      "text/plain": [
       "        Id      SalePrice\n",
       "0     1461  134576.537258\n",
       "1     1462  152882.694339\n",
       "2     1463  178128.885845\n",
       "3     1464  187522.842412\n",
       "4     1465  221058.877612\n",
       "...    ...            ...\n",
       "1454  2915  110095.063664\n",
       "1455  2916  123179.169224\n",
       "1456  2917  158533.411357\n",
       "1457  2918  120084.528855\n",
       "1458  2919  311756.084660\n",
       "\n",
       "[1459 rows x 2 columns]"
      ]
     },
     "execution_count": 310,
     "metadata": {},
     "output_type": "execute_result"
    }
   ],
   "source": [
    "Solution"
   ]
  },
  {
   "cell_type": "code",
   "execution_count": 311,
   "id": "203456fa",
   "metadata": {},
   "outputs": [],
   "source": [
    "## Exporting to external csv file.\n",
    "Solution.to_csv('solution_gradient_boost.csv')"
   ]
  },
  {
   "cell_type": "code",
   "execution_count": null,
   "id": "85fe9293",
   "metadata": {},
   "outputs": [],
   "source": []
  }
 ],
 "metadata": {
  "kernelspec": {
   "display_name": "Python 3",
   "language": "python",
   "name": "python3"
  },
  "language_info": {
   "codemirror_mode": {
    "name": "ipython",
    "version": 3
   },
   "file_extension": ".py",
   "mimetype": "text/x-python",
   "name": "python",
   "nbconvert_exporter": "python",
   "pygments_lexer": "ipython3",
   "version": "3.8.8"
  }
 },
 "nbformat": 4,
 "nbformat_minor": 5
}
